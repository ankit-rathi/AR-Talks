{
  "nbformat": 4,
  "nbformat_minor": 0,
  "metadata": {
    "colab": {
      "provenance": [],
      "authorship_tag": "ABX9TyN4OJczn5f9oBiXaspbJ+8D",
      "include_colab_link": true
    },
    "kernelspec": {
      "name": "python3",
      "display_name": "Python 3"
    },
    "language_info": {
      "name": "python"
    }
  },
  "cells": [
    {
      "cell_type": "markdown",
      "metadata": {
        "id": "view-in-github",
        "colab_type": "text"
      },
      "source": [
        "<a href=\"https://colab.research.google.com/github/ankit-rathi/AR-Talks/blob/master/tmp_notebook.ipynb\" target=\"_parent\"><img src=\"https://colab.research.google.com/assets/colab-badge.svg\" alt=\"Open In Colab\"/></a>"
      ]
    },
    {
      "cell_type": "code",
      "source": [
        "# Install boto3 library\n",
        "!pip install boto3"
      ],
      "metadata": {
        "colab": {
          "base_uri": "https://localhost:8080/"
        },
        "id": "A5HSAFHNomfh",
        "outputId": "3477c3c4-96f5-42b6-dbf1-031d04dbaff0"
      },
      "execution_count": 1,
      "outputs": [
        {
          "output_type": "stream",
          "name": "stdout",
          "text": [
            "Requirement already satisfied: boto3 in /usr/local/lib/python3.10/dist-packages (1.35.46)\n",
            "Requirement already satisfied: botocore<1.36.0,>=1.35.46 in /usr/local/lib/python3.10/dist-packages (from boto3) (1.35.46)\n",
            "Requirement already satisfied: jmespath<2.0.0,>=0.7.1 in /usr/local/lib/python3.10/dist-packages (from boto3) (1.0.1)\n",
            "Requirement already satisfied: s3transfer<0.11.0,>=0.10.0 in /usr/local/lib/python3.10/dist-packages (from boto3) (0.10.3)\n",
            "Requirement already satisfied: python-dateutil<3.0.0,>=2.1 in /usr/local/lib/python3.10/dist-packages (from botocore<1.36.0,>=1.35.46->boto3) (2.8.2)\n",
            "Requirement already satisfied: urllib3!=2.2.0,<3,>=1.25.4 in /usr/local/lib/python3.10/dist-packages (from botocore<1.36.0,>=1.35.46->boto3) (2.2.3)\n",
            "Requirement already satisfied: six>=1.5 in /usr/local/lib/python3.10/dist-packages (from python-dateutil<3.0.0,>=2.1->botocore<1.36.0,>=1.35.46->boto3) (1.16.0)\n"
          ]
        }
      ]
    },
    {
      "cell_type": "code",
      "source": [
        "# Mount google drive\n",
        "from google.colab import drive\n",
        "drive.mount('/content/drive')\n",
        "import os\n",
        "\n",
        "import pandas as pd\n",
        "\n",
        "project_path = '/content/drive/My Drive/Personal'\n",
        "os.chdir(project_path)"
      ],
      "metadata": {
        "colab": {
          "base_uri": "https://localhost:8080/"
        },
        "id": "OVU2sa02ostg",
        "outputId": "9842456e-113f-434a-f144-a948f1506d6a"
      },
      "execution_count": 2,
      "outputs": [
        {
          "output_type": "stream",
          "name": "stdout",
          "text": [
            "Drive already mounted at /content/drive; to attempt to forcibly remount, call drive.mount(\"/content/drive\", force_remount=True).\n"
          ]
        }
      ]
    },
    {
      "cell_type": "code",
      "source": [
        "import boto3\n",
        "\n",
        "# S3 and Kafka configurations\n",
        "# Load AWS credentials from CSV\n",
        "aws_keys_df = pd.read_csv('aws-rootkey.csv')\n",
        "\n",
        "S3_BUCKET_NAME = 'my-bucket-ar'\n",
        "AWS_ACCESS_KEY_ID = aws_keys_df['Access_key_ID'][0]\n",
        "AWS_SECRET_ACCESS_KEY = aws_keys_df['Secret_access_key'][0]\n",
        "REGION_NAME = aws_keys_df['Region'][0]\n",
        "\n",
        "# Initialize S3 client\n",
        "s3_client = boto3.client(\n",
        "    's3',\n",
        "    aws_access_key_id=AWS_ACCESS_KEY_ID,\n",
        "    aws_secret_access_key=AWS_SECRET_ACCESS_KEY\n",
        ")\n",
        "\n",
        "\n",
        "# Step 1: Create S3 Bucket\n",
        "def create_s3_bucket(bucket_name):\n",
        "    try:\n",
        "        response = s3_client.create_bucket(\n",
        "            Bucket=bucket_name,\n",
        "            CreateBucketConfiguration={'LocationConstraint': REGION_NAME}\n",
        "        )\n",
        "        print(f\"Bucket '{bucket_name}' created successfully.\")\n",
        "    except Exception as e:\n",
        "        print(f\"Error creating bucket: {str(e)}\")\n",
        "\n",
        "create_s3_bucket(S3_BUCKET_NAME)"
      ],
      "metadata": {
        "colab": {
          "base_uri": "https://localhost:8080/"
        },
        "id": "DNDvfcBKqthC",
        "outputId": "20ccfdb2-168a-4f75-e336-9993595197f6"
      },
      "execution_count": 3,
      "outputs": [
        {
          "output_type": "stream",
          "name": "stdout",
          "text": [
            "Error creating bucket: An error occurred (BucketAlreadyOwnedByYou) when calling the CreateBucket operation: Your previous request to create the named bucket succeeded and you already own it.\n"
          ]
        }
      ]
    },
    {
      "cell_type": "code",
      "execution_count": 4,
      "metadata": {
        "id": "e3vUI_5zn_iO"
      },
      "outputs": [],
      "source": [
        "import json\n",
        "import os\n",
        "import zipfile\n",
        "\n",
        "\n",
        "# 1. Read request body JSON for zip file names\n",
        "def parse_request_body(request_body):\n",
        "    try:\n",
        "        request_data = json.loads(request_body)\n",
        "        zip_files = request_data.get(\"zip_files\", [])\n",
        "        request_id = request_data.get(\"request_id\", \"default_request\")\n",
        "        return zip_files, request_id\n",
        "    except json.JSONDecodeError as e:\n",
        "        raise ValueError(f\"Invalid JSON format: {e}\")\n",
        "\n",
        "# 2. Copy zip files from S3 bucket\n",
        "def download_zip_files_from_s3(zip_files):\n",
        "    local_zip_files = []\n",
        "    for zip_file in zip_files:\n",
        "        local_file_path = os.path.join(\"/tmp\", zip_file)\n",
        "        s3_client.download_file(S3_BUCKET_NAME, zip_file, local_file_path)\n",
        "        local_zip_files.append(local_file_path)\n",
        "        print(f\"Downloaded {zip_file} to {local_file_path}\")\n",
        "    return local_zip_files\n",
        "\n",
        "# 3. Unzip the files\n",
        "def unzip_files(zip_files, request_id):\n",
        "    unzipped_files = []\n",
        "    for zip_file_path in zip_files:\n",
        "        with zipfile.ZipFile(zip_file_path, 'r') as zip_ref:\n",
        "            extract_path = os.path.dirname(zip_file_path)\n",
        "            zip_ref.extractall(extract_path)\n",
        "            for file_name in zip_ref.namelist():\n",
        "                unzipped_files.append((file_name, zip_file_path, request_id))\n",
        "        print(f\"Unzipped {zip_file_path}\")\n",
        "    return unzipped_files\n",
        "\n",
        "# 4. Rename unzipped files\n",
        "def rename_unzipped_files(unzipped_files):\n",
        "    renamed_files = []\n",
        "    for file_name, zip_file_path, request_id in unzipped_files:\n",
        "        original_file_path = os.path.join(os.path.dirname(zip_file_path), file_name)\n",
        "        new_file_name = f\"{request_id}_{os.path.basename(zip_file_path)}_{file_name}\".replace(\" \", \"_\").replace(\".zip\", \"\")\n",
        "        new_file_path = os.path.join(os.path.dirname(zip_file_path), new_file_name)\n",
        "        os.rename(original_file_path, new_file_path)\n",
        "        renamed_files.append(new_file_name)\n",
        "        print(f\"Renamed {original_file_path} to {new_file_name}\")\n",
        "    return renamed_files\n",
        "\n",
        "\n",
        "# 6. Delete zip files from S3\n",
        "def delete_zip_files_from_s3(zip_files):\n",
        "    try:\n",
        "        for zip_file in zip_files:\n",
        "            s3_client.delete_object(Bucket=S3_BUCKET_NAME, Key=zip_file)\n",
        "            print(f\"Deleted {zip_file} from S3 bucket {S3_BUCKET_NAME}\")\n",
        "    except Exception as e:\n",
        "        print(f\"Error deleting files from S3: {e}\")\n",
        "\n",
        "# Main workflow\n",
        "def process_zip_files_workflow(request_body):\n",
        "    try:\n",
        "        # Step 1: Parse request body\n",
        "        zip_files, request_id = parse_request_body(request_body)\n",
        "        zip_files = zip_files.split(',')\n",
        "\n",
        "        # Step 2: Download zip files from S3\n",
        "        local_zip_files = download_zip_files_from_s3(zip_files)\n",
        "\n",
        "        # Step 3: Unzip the files\n",
        "        unzipped_files = unzip_files(local_zip_files, request_id)\n",
        "\n",
        "        # Step 4: Rename the unzipped files\n",
        "        renamed_files = rename_unzipped_files(unzipped_files)\n",
        "        print(renamed_files)\n",
        "\n",
        "        # Step 5: Send file names to Kafka\n",
        "        # send_file_names_to_kafka(renamed_files)\n",
        "\n",
        "        # Step 6: Delete zip files from S3\n",
        "        #delete_zip_files_from_s3(zip_files)\n",
        "\n",
        "        print(\"Process completed successfully!\")\n",
        "\n",
        "    except Exception as e:\n",
        "        print(f\"Error occurred during process: {e}\")\n"
      ]
    },
    {
      "cell_type": "code",
      "source": [
        "request_body = '{\"zip_files\": \"file1.zip,file2.zip\"}'\n",
        "process_zip_files_workflow(request_body)"
      ],
      "metadata": {
        "colab": {
          "base_uri": "https://localhost:8080/"
        },
        "id": "UIneS5AMsnB6",
        "outputId": "286fb00d-47f2-497c-f9b9-3c58d635d996"
      },
      "execution_count": 5,
      "outputs": [
        {
          "output_type": "stream",
          "name": "stdout",
          "text": [
            "Downloaded file1.zip to /tmp/file1.zip\n",
            "Downloaded file2.zip to /tmp/file2.zip\n",
            "Unzipped /tmp/file1.zip\n",
            "Unzipped /tmp/file2.zip\n",
            "Renamed /tmp/abc.txt to default_request_file1_abc.txt\n",
            "Renamed /tmp/pqr.txt to default_request_file1_pqr.txt\n",
            "Renamed /tmp/xyz.txt to default_request_file2_xyz.txt\n",
            "['default_request_file1_abc.txt', 'default_request_file1_pqr.txt', 'default_request_file2_xyz.txt']\n",
            "Process completed successfully!\n"
          ]
        }
      ]
    }
  ]
}