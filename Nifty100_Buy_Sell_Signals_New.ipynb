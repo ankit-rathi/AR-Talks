{
  "cells": [
    {
      "cell_type": "markdown",
      "metadata": {
        "id": "view-in-github",
        "colab_type": "text"
      },
      "source": [
        "<a href=\"https://colab.research.google.com/github/ankit-rathi/AR-Talks/blob/master/Nifty100_Buy_Sell_Signals_New.ipynb\" target=\"_parent\"><img src=\"https://colab.research.google.com/assets/colab-badge.svg\" alt=\"Open In Colab\"/></a>"
      ]
    },
    {
      "cell_type": "code",
      "source": [
        "!pip install yfinance\n",
        "!pip install talib-binary"
      ],
      "metadata": {
        "colab": {
          "base_uri": "https://localhost:8080/"
        },
        "id": "HIMg_uij4AuE",
        "outputId": "bb8db5e2-9fbb-4898-9606-f615cb6e76ed"
      },
      "id": "HIMg_uij4AuE",
      "execution_count": 1,
      "outputs": [
        {
          "output_type": "stream",
          "name": "stdout",
          "text": [
            "Looking in indexes: https://pypi.org/simple, https://us-python.pkg.dev/colab-wheels/public/simple/\n",
            "Collecting yfinance\n",
            "  Downloading yfinance-0.1.87-py2.py3-none-any.whl (29 kB)\n",
            "Requirement already satisfied: appdirs>=1.4.4 in /usr/local/lib/python3.8/dist-packages (from yfinance) (1.4.4)\n",
            "Requirement already satisfied: pandas>=0.24.0 in /usr/local/lib/python3.8/dist-packages (from yfinance) (1.3.5)\n",
            "Requirement already satisfied: lxml>=4.5.1 in /usr/local/lib/python3.8/dist-packages (from yfinance) (4.9.1)\n",
            "Requirement already satisfied: multitasking>=0.0.7 in /usr/local/lib/python3.8/dist-packages (from yfinance) (0.0.11)\n",
            "Collecting requests>=2.26\n",
            "  Downloading requests-2.28.1-py3-none-any.whl (62 kB)\n",
            "\u001b[K     |████████████████████████████████| 62 kB 1.3 MB/s \n",
            "\u001b[?25hRequirement already satisfied: numpy>=1.15 in /usr/local/lib/python3.8/dist-packages (from yfinance) (1.21.6)\n",
            "Requirement already satisfied: pytz>=2017.3 in /usr/local/lib/python3.8/dist-packages (from pandas>=0.24.0->yfinance) (2022.6)\n",
            "Requirement already satisfied: python-dateutil>=2.7.3 in /usr/local/lib/python3.8/dist-packages (from pandas>=0.24.0->yfinance) (2.8.2)\n",
            "Requirement already satisfied: six>=1.5 in /usr/local/lib/python3.8/dist-packages (from python-dateutil>=2.7.3->pandas>=0.24.0->yfinance) (1.15.0)\n",
            "Requirement already satisfied: charset-normalizer<3,>=2 in /usr/local/lib/python3.8/dist-packages (from requests>=2.26->yfinance) (2.1.1)\n",
            "Requirement already satisfied: certifi>=2017.4.17 in /usr/local/lib/python3.8/dist-packages (from requests>=2.26->yfinance) (2022.9.24)\n",
            "Requirement already satisfied: urllib3<1.27,>=1.21.1 in /usr/local/lib/python3.8/dist-packages (from requests>=2.26->yfinance) (1.24.3)\n",
            "Requirement already satisfied: idna<4,>=2.5 in /usr/local/lib/python3.8/dist-packages (from requests>=2.26->yfinance) (2.10)\n",
            "Installing collected packages: requests, yfinance\n",
            "  Attempting uninstall: requests\n",
            "    Found existing installation: requests 2.23.0\n",
            "    Uninstalling requests-2.23.0:\n",
            "      Successfully uninstalled requests-2.23.0\n",
            "Successfully installed requests-2.28.1 yfinance-0.1.87\n",
            "Looking in indexes: https://pypi.org/simple, https://us-python.pkg.dev/colab-wheels/public/simple/\n",
            "\u001b[31mERROR: Could not find a version that satisfies the requirement talib-binary (from versions: none)\u001b[0m\n",
            "\u001b[31mERROR: No matching distribution found for talib-binary\u001b[0m\n"
          ]
        }
      ]
    },
    {
      "cell_type": "code",
      "execution_count": 2,
      "id": "7bcc01db",
      "metadata": {
        "id": "7bcc01db"
      },
      "outputs": [],
      "source": [
        "import pandas as pd\n",
        "import numpy as np\n",
        "\n",
        "mypf = pd.read_csv('https://raw.githubusercontent.com/ankit-rathi/Data-Science-with-Python/master/Stock_Analysis/data/Nifty100Scrips.csv')\n",
        "\n",
        "mypf = mypf[mypf['InScope'] == 1]\n",
        "\n",
        "stock_n100 = mypf['Symbol'].unique()\n",
        "\n",
        "exclude = ['CADILAHC','MMTC']\n",
        "\n",
        "stock_n100 = mypf[~mypf['Symbol'].isin(exclude) ]['Symbol']\n",
        "\n",
        "#stock_ids\n",
        "\n",
        "stock_ids = stock_n100"
      ]
    },
    {
      "cell_type": "code",
      "execution_count": 3,
      "id": "881add47",
      "metadata": {
        "id": "881add47",
        "colab": {
          "base_uri": "https://localhost:8080/",
          "height": 357
        },
        "outputId": "672602ad-641a-4af2-cbf4-9011af75cc88"
      },
      "outputs": [
        {
          "output_type": "error",
          "ename": "ModuleNotFoundError",
          "evalue": "ignored",
          "traceback": [
            "\u001b[0;31m---------------------------------------------------------------------------\u001b[0m",
            "\u001b[0;31mModuleNotFoundError\u001b[0m                       Traceback (most recent call last)",
            "\u001b[0;32m<ipython-input-3-8ff73ebc96f9>\u001b[0m in \u001b[0;36m<module>\u001b[0;34m\u001b[0m\n\u001b[1;32m     11\u001b[0m \u001b[0;32mimport\u001b[0m \u001b[0mpandas_datareader\u001b[0m\u001b[0;34m.\u001b[0m\u001b[0mdata\u001b[0m \u001b[0;32mas\u001b[0m \u001b[0mweb\u001b[0m\u001b[0;34m\u001b[0m\u001b[0;34m\u001b[0m\u001b[0m\n\u001b[1;32m     12\u001b[0m \u001b[0;32mimport\u001b[0m \u001b[0myfinance\u001b[0m \u001b[0;32mas\u001b[0m \u001b[0myfin\u001b[0m\u001b[0;34m\u001b[0m\u001b[0;34m\u001b[0m\u001b[0m\n\u001b[0;32m---> 13\u001b[0;31m \u001b[0;32mimport\u001b[0m \u001b[0mtalib\u001b[0m\u001b[0;34m\u001b[0m\u001b[0;34m\u001b[0m\u001b[0m\n\u001b[0m\u001b[1;32m     14\u001b[0m \u001b[0myfin\u001b[0m\u001b[0;34m.\u001b[0m\u001b[0mpdr_override\u001b[0m\u001b[0;34m(\u001b[0m\u001b[0;34m)\u001b[0m\u001b[0;34m\u001b[0m\u001b[0;34m\u001b[0m\u001b[0m\n",
            "\u001b[0;31mModuleNotFoundError\u001b[0m: No module named 'talib'",
            "",
            "\u001b[0;31m---------------------------------------------------------------------------\u001b[0;32m\nNOTE: If your import is failing due to a missing package, you can\nmanually install dependencies using either !pip or !apt.\n\nTo view examples of installing some common dependencies, click the\n\"Open Examples\" button below.\n\u001b[0;31m---------------------------------------------------------------------------\u001b[0m\n"
          ],
          "errorDetails": {
            "actions": [
              {
                "action": "open_url",
                "actionText": "Open Examples",
                "url": "/notebooks/snippets/importing_libraries.ipynb"
              }
            ]
          }
        }
      ],
      "source": [
        "# import necessary libraries \n",
        "\n",
        "%matplotlib inline\n",
        "import numpy as np \n",
        "import pandas as pd\n",
        "import matplotlib.pyplot as plt\n",
        "import datetime\n",
        "from tabulate import tabulate\n",
        "import warnings\n",
        "warnings.filterwarnings('ignore')\n",
        "import pandas_datareader.data as web\n",
        "import yfinance as yfin\n",
        "import talib \n",
        "yfin.pdr_override()"
      ]
    },
    {
      "cell_type": "code",
      "execution_count": null,
      "id": "a7cdc242",
      "metadata": {
        "id": "a7cdc242"
      },
      "outputs": [],
      "source": [
        "def MovingAverageCrossStrategy(stock_symbol = 'ULTRACEMCO.NS', start_date = '2018-01-01', end_date = '2020-01-01', \n",
        "                               short_window = 20, mid_window = 50, long_window = 200, moving_avg = 'SMA', display_table = True):\n",
        "    '''\n",
        "    The function takes the stock symbol, time-duration of analysis, \n",
        "    look-back periods and the moving-average type(SMA or EMA) as input \n",
        "    and returns the respective MA Crossover chart along with the buy/sell signals for the given period.\n",
        "    '''\n",
        "    # stock_symbol - (str)stock ticker as on Yahoo finance. Eg: 'ULTRACEMCO.NS' \n",
        "    # start_date - (str)start analysis from this date (format: 'YYYY-MM-DD') Eg: '2018-01-01'\n",
        "    # end_date - (str)end analysis on this date (format: 'YYYY-MM-DD') Eg: '2020-01-01'\n",
        "    # short_window - (int)lookback period for short-term moving average. Eg: 5, 10, 20 \n",
        "    # long_window - (int)lookback period for long-term moving average. Eg: 50, 100, 200\n",
        "    # moving_avg - (str)the type of moving average to use ('SMA' or 'EMA')\n",
        "    # display_table - (bool)whether to display the date and price table at buy/sell positions(True/False)\n",
        "\n",
        "    calc_date = (datetime.datetime.strptime(start_date, '%Y-%m-%d') + datetime.timedelta(days=-200)).strftime('%Y-%m-%d')\n",
        "\n",
        "    # import the closing price data of the stock for the aforementioned period of time in Pandas dataframe\n",
        "    start = datetime.datetime(*map(int, calc_date.split('-')))\n",
        "    end = datetime.datetime(*map(int, end_date.split('-'))) \n",
        "    stock_df = web.DataReader(stock_symbol,  data_source='yahoo', start = start, end = end)['Close']\n",
        "    stock_df = pd.DataFrame(stock_df) # convert Series object to dataframe \n",
        "    stock_df.columns = {'Close Price'} # assign new colun name\n",
        "    stock_df.dropna(axis = 0, inplace = True) # remove any null rows \n",
        "                        \n",
        "    # column names for long and short moving average columns\n",
        "    short_window_col = str(short_window) + '_' + moving_avg\n",
        "    mid_window_col = str(mid_window) + '_' + moving_avg\n",
        "    long_window_col = str(long_window) + '_' + moving_avg  \n",
        "  \n",
        "    if moving_avg == 'SMA':\n",
        "        # Create a short simple moving average column\n",
        "        stock_df[short_window_col] = stock_df['Close Price'].rolling(window = short_window, min_periods = 1).mean()\n",
        "        \n",
        "        stock_df[mid_window_col] = stock_df['Close Price'].rolling(window = mid_window, min_periods = 1).mean()\n",
        "\n",
        "        # Create a long simple moving average column\n",
        "        stock_df[long_window_col] = stock_df['Close Price'].rolling(window = long_window, min_periods = 1).mean()\n",
        "\n",
        "    elif moving_avg == 'EMA':\n",
        "        # Create short exponential moving average column\n",
        "        stock_df[short_window_col] = stock_df['Close Price'].ewm(span = short_window, adjust = False).mean()\n",
        "        \n",
        "        stock_df[mid_window_col] = stock_df['Close Price'].ewm(span = mid_window, adjust = False).mean()\n",
        "\n",
        "        # Create a long exponential moving average column\n",
        "        stock_df[long_window_col] = stock_df['Close Price'].ewm(span = long_window, adjust = False).mean()\n",
        "\n",
        "    # create a new column 'Signal' such that if faster moving average is greater than slower moving average \n",
        "    # then set Signal as 1 else 0.\n",
        "    stock_df['Signal'] = 0.0  \n",
        "    stock_df['Signal'] = np.where(((stock_df[long_window_col] > stock_df[mid_window_col]) & (stock_df['Close Price'] > stock_df[mid_window_col]))\n",
        "                                , 1.0, stock_df['Signal']) \n",
        "    \n",
        "    stock_df['Signal'] = np.where(((stock_df[long_window_col] < stock_df[mid_window_col]) & (stock_df['Close Price'] < stock_df[mid_window_col]))\n",
        "                                  , -1.0, stock_df['Signal']) \n",
        "\n",
        "    # create a new column 'Position' which is a day-to-day difference of the 'Signal' column. \n",
        "    stock_df['Position'] = stock_df['Signal'].diff()\n",
        "\n",
        "    stock_df = stock_df[stock_df.index >= start_date]\n",
        "\n",
        "    # plot close price, short-term and long-term moving averages\n",
        "    plt.figure(figsize = (20,10))\n",
        "    plt.tick_params(axis = 'both', labelsize = 14)\n",
        "    stock_df['Close Price'].plot(color = 'k', lw = 1, label = 'Close Price')  \n",
        "    #stock_df[short_window_col].plot(color = 'g', lw = 1, label = short_window_col)\n",
        "    stock_df[mid_window_col].plot(color = 'm', lw = 1, label = mid_window_col)\n",
        "    stock_df[long_window_col].plot(color = 'b', lw = 1, label = long_window_col) \n",
        "    \n",
        "    # plot 'buy' signals\n",
        "    plt.plot(stock_df[stock_df['Position'] >= 1].index, \n",
        "            stock_df['Close Price'][stock_df['Position'] >= 1], \n",
        "            '^', markersize = 15, color = 'g', alpha = 0.7, label = 'buy')\n",
        "\n",
        "    # plot 'sell' signals\n",
        "    plt.plot(stock_df[stock_df['Position'] <= -1].index, \n",
        "            stock_df['Close Price'][stock_df['Position'] <= -1], \n",
        "            'v', markersize = 15, color = 'r', alpha = 0.7, label = 'sell')\n",
        "    \n",
        "    plt.ylabel('Price in ₹', fontsize = 16 )\n",
        "    plt.xlabel('Date', fontsize = 16 )\n",
        "    plt.title(str(stock_symbol) + ' - ' + str(moving_avg) + ' Crossover', fontsize = 20)\n",
        "    plt.legend()\n",
        "    plt.grid()\n",
        "    plt.show()\n",
        "    \n",
        "    if display_table == True:\n",
        "        print(stock_symbol)\n",
        "        df_pos = stock_df[(stock_df['Position'] >= 1) | (stock_df['Position'] <= -1)]\n",
        "        df_pos['Position'] = df_pos['Position'].apply(lambda x: 'Buy' if x >= 1 else 'Sell')\n",
        "        df_pos = df_pos[df_pos['Signal'] != 0]\n",
        "        df_pos['Prev_Signal'] = df_pos['Signal'].shift(1)\n",
        "        df_pos = df_pos[df_pos['Signal'] != df_pos['Prev_Signal']]\n",
        "        df_pos.drop('Prev_Signal', axis=1, inplace=True)\n",
        "        df_pos.drop(short_window_col, axis=1, inplace=True)\n",
        "        print(tabulate(df_pos, headers = 'keys', tablefmt = 'psql'))\n",
        "        \n",
        "def plot_buy_sell(stock_id, start_date, table):\n",
        "    \n",
        "    #start_date = '2011-01-01'\n",
        "    #end_date = '2020-03-01'    \n",
        "    end_date = (datetime.date.today() + datetime.timedelta(days=1)).strftime('%Y-%m-%d')\n",
        "    strategy = 'SMA'\n",
        "    short_window = 20\n",
        "    mid_window = 50\n",
        "    long_window = 200\n",
        "    MovingAverageCrossStrategy(stock_id, start_date, end_date, short_window, mid_window, long_window, strategy, display_table = table)\n",
        " "
      ]
    },
    {
      "cell_type": "code",
      "execution_count": null,
      "id": "c2320906",
      "metadata": {
        "id": "c2320906"
      },
      "outputs": [],
      "source": [
        "%%javascript\n",
        "IPython.OutputArea.prototype._should_scroll = function(lines) {\n",
        "    return false;\n",
        "}"
      ]
    },
    {
      "cell_type": "code",
      "execution_count": null,
      "id": "b7a23524",
      "metadata": {
        "id": "b7a23524"
      },
      "outputs": [],
      "source": [
        "start_date = (datetime.date.today() + datetime.timedelta(days=-365)).strftime('%Y-%m-%d')\n",
        "stock_id = '^NSEI'\n",
        "plot_buy_sell(stock_id, start_date, True)"
      ]
    },
    {
      "cell_type": "code",
      "execution_count": null,
      "id": "9d0b116e",
      "metadata": {
        "id": "9d0b116e"
      },
      "outputs": [],
      "source": [
        "def get_buy_sell_signal(stock_symbol, start_date, end_date, moving_avg, short_window, mid_window,long_window):\n",
        "\n",
        "    stock_df = web.DataReader(stock_symbol,  data_source='yahoo', start = start_date, end = end_date)['Close']\n",
        "    stock_df = pd.DataFrame(stock_df) # convert Series object to dataframe \n",
        "    stock_df.columns = {'Close Price'} # assign new colun name\n",
        "    stock_df.dropna(axis = 0, inplace = True) # remove any null rows \n",
        "\n",
        "    # column names for long and short moving average columns\n",
        "    short_window_col = str(short_window) + '_' + moving_avg\n",
        "    mid_window_col = str(mid_window) + '_' + moving_avg\n",
        "    long_window_col = str(long_window) + '_' + moving_avg  \n",
        "\n",
        "    if moving_avg == 'SMA':\n",
        "        # Create a short simple moving average column\n",
        "        stock_df[short_window_col] = stock_df['Close Price'].rolling(window = short_window, min_periods = 1).mean()\n",
        "        \n",
        "        stock_df[mid_window_col] = stock_df['Close Price'].rolling(window = mid_window, min_periods = 1).mean()\n",
        "\n",
        "        # Create a long simple moving average column\n",
        "        stock_df[long_window_col] = stock_df['Close Price'].rolling(window = long_window, min_periods = 1).mean()\n",
        "\n",
        "    elif moving_avg == 'EMA':\n",
        "        # Create short exponential moving average column\n",
        "        stock_df[short_window_col] = stock_df['Close Price'].ewm(span = short_window, adjust = False).mean()\n",
        "        \n",
        "        stock_df[mid_window_col] = stock_df['Close Price'].rolling(window = mid_window, min_periods = 1).mean()\n",
        "\n",
        "        # Create a long exponential moving average column\n",
        "        stock_df[long_window_col] = stock_df['Close Price'].ewm(span = long_window, adjust = False).mean()\n",
        "\n",
        "    # create a new column 'Signal' such that if faster moving average is greater than slower moving average \n",
        "    # then set Signal as 1 else 0.\n",
        "    stock_df['Signal'] = 0.0  \n",
        "    stock_df['Signal'] = np.where(((stock_df[long_window_col] > stock_df[mid_window_col]) & (stock_df['Close Price'] > stock_df[mid_window_col]))\n",
        "                                , 1.0, stock_df['Signal']) \n",
        "    \n",
        "    stock_df['Signal'] = np.where(((stock_df[long_window_col] < stock_df[mid_window_col]) & (stock_df['Close Price'] < stock_df[mid_window_col]))\n",
        "                                  , -1.0, stock_df['Signal']) \n",
        "\n",
        "    # create a new column 'Position' which is a day-to-day difference of the 'Signal' column. \n",
        "    stock_df['Position'] = stock_df['Signal'].diff()\n",
        "    \n",
        "    df_pos = stock_df[(stock_df['Position'] >= 1) | (stock_df['Position'] <= -1)]\n",
        "    df_pos['Position'] = df_pos['Position'].apply(lambda x: 'Buy' if x >= 1 else 'Sell')\n",
        "    df_pos = df_pos[df_pos['Signal'] != 0]\n",
        "    df_pos['Prev_Signal'] = df_pos['Signal'].shift(1)\n",
        "    df_pos = df_pos[df_pos['Signal'] != df_pos['Prev_Signal']]\n",
        "    df_pos.drop('Prev_Signal', axis=1, inplace=True)\n",
        "    df_pos.drop(short_window_col, axis=1, inplace=True)\n",
        "        \n",
        "    df_pos['Stock'] = stock_symbol\n",
        "    return df_pos.tail(1)"
      ]
    },
    {
      "cell_type": "code",
      "execution_count": null,
      "id": "0d9e6f64",
      "metadata": {
        "id": "0d9e6f64"
      },
      "outputs": [],
      "source": [
        "start_date = (datetime.date.today() + datetime.timedelta(days=-365)).strftime('%Y-%m-%d')\n",
        "end_date = (datetime.date.today() + datetime.timedelta(days=1)).strftime('%Y-%m-%d')\n",
        "moving_avg = 'SMA'\n",
        "short_window = 20\n",
        "mid_window = 50\n",
        "long_window = 200\n",
        "\n",
        "df_buy_sell = pd.DataFrame()\n",
        "\n",
        "for stock_id in stock_ids:\n",
        "    stock_id = stock_id.upper() + '.NS'\n",
        "    tmp = get_buy_sell_signal(stock_id, start_date, end_date, moving_avg, short_window, mid_window, long_window)\n",
        "    df_buy_sell = df_buy_sell.append(tmp)\n",
        "    \n",
        "df_buy_sell.sort_index()"
      ]
    },
    {
      "cell_type": "code",
      "source": [
        "df_buy_sell[df_buy_sell['Position'] == 'Buy'].sort_index().tail(20)"
      ],
      "metadata": {
        "id": "n69p42Dg5KoC"
      },
      "id": "n69p42Dg5KoC",
      "execution_count": null,
      "outputs": []
    },
    {
      "cell_type": "code",
      "source": [
        "df_buy_sell[df_buy_sell['Position'] == 'Sell'].sort_index().tail(20)"
      ],
      "metadata": {
        "id": "DSatxtQ6gWvW"
      },
      "id": "DSatxtQ6gWvW",
      "execution_count": null,
      "outputs": []
    },
    {
      "cell_type": "code",
      "execution_count": null,
      "id": "96f31e04",
      "metadata": {
        "id": "96f31e04"
      },
      "outputs": [],
      "source": [
        "start_date = (datetime.date.today() + datetime.timedelta(days=-365)).strftime('%Y-%m-%d')\n",
        "stock_id = 'IRCTC.NS'\n",
        "plot_buy_sell(stock_id, start_date, True)"
      ]
    }
  ],
  "metadata": {
    "kernelspec": {
      "display_name": "Python 3",
      "language": "python",
      "name": "python3"
    },
    "language_info": {
      "codemirror_mode": {
        "name": "ipython",
        "version": 3
      },
      "file_extension": ".py",
      "mimetype": "text/x-python",
      "name": "python",
      "nbconvert_exporter": "python",
      "pygments_lexer": "ipython3",
      "version": "3.8.8"
    },
    "colab": {
      "provenance": [],
      "include_colab_link": true
    },
    "gpuClass": "standard"
  },
  "nbformat": 4,
  "nbformat_minor": 5
}