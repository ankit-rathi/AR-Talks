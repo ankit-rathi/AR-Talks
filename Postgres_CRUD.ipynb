{
  "nbformat": 4,
  "nbformat_minor": 0,
  "metadata": {
    "colab": {
      "provenance": [],
      "authorship_tag": "ABX9TyPsBGWGYpnQBtMcx05RbPgu",
      "include_colab_link": true
    },
    "kernelspec": {
      "name": "python3",
      "display_name": "Python 3"
    },
    "language_info": {
      "name": "python"
    }
  },
  "cells": [
    {
      "cell_type": "markdown",
      "metadata": {
        "id": "view-in-github",
        "colab_type": "text"
      },
      "source": [
        "<a href=\"https://colab.research.google.com/github/ankit-rathi/AR-Talks/blob/master/Postgres_CRUD.ipynb\" target=\"_parent\"><img src=\"https://colab.research.google.com/assets/colab-badge.svg\" alt=\"Open In Colab\"/></a>"
      ]
    },
    {
      "cell_type": "code",
      "execution_count": 1,
      "metadata": {
        "colab": {
          "base_uri": "https://localhost:8080/"
        },
        "id": "o3TGv7D5YLMU",
        "outputId": "5642bf04-5866-4a0a-9709-9c2bf0481b52"
      },
      "outputs": [
        {
          "output_type": "stream",
          "name": "stdout",
          "text": [
            "\u001b[33m\r0% [Working]\u001b[0m\r            \rHit:1 http://archive.ubuntu.com/ubuntu jammy InRelease\n",
            "\u001b[33m\r0% [Waiting for headers] [Waiting for headers] [Connected to cloud.r-project.or\u001b[0m\r                                                                               \rHit:2 http://archive.ubuntu.com/ubuntu jammy-updates InRelease\n",
            "\u001b[33m\r0% [Waiting for headers] [Waiting for headers] [Connected to cloud.r-project.or\u001b[0m\r                                                                               \rHit:3 https://developer.download.nvidia.com/compute/cuda/repos/ubuntu2204/x86_64  InRelease\n",
            "\u001b[33m\r0% [Waiting for headers] [Waiting for headers] [Connected to cloud.r-project.or\u001b[0m\r                                                                               \rHit:4 http://archive.ubuntu.com/ubuntu jammy-backports InRelease\n",
            "Hit:5 http://security.ubuntu.com/ubuntu jammy-security InRelease\n",
            "Hit:6 https://cloud.r-project.org/bin/linux/ubuntu jammy-cran40/ InRelease\n",
            "Hit:7 http://apt.postgresql.org/pub/repos/apt jammy-pgdg InRelease\n",
            "Hit:8 https://ppa.launchpadcontent.net/c2d4u.team/c2d4u4.0+/ubuntu jammy InRelease\n",
            "Hit:9 https://ppa.launchpadcontent.net/deadsnakes/ppa/ubuntu jammy InRelease\n",
            "Hit:10 https://ppa.launchpadcontent.net/graphics-drivers/ppa/ubuntu jammy InRelease\n",
            "Hit:11 https://ppa.launchpadcontent.net/ubuntugis/ppa/ubuntu jammy InRelease\n",
            "Reading package lists... Done\n",
            "Building dependency tree... Done\n",
            "Reading state information... Done\n",
            "43 packages can be upgraded. Run 'apt list --upgradable' to see them.\n",
            "Reading package lists... Done\n",
            "Building dependency tree... Done\n",
            "Reading state information... Done\n",
            "ca-certificates is already the newest version (20230311ubuntu0.22.04.1).\n",
            "curl is already the newest version (7.81.0-1ubuntu1.15).\n",
            "dirmngr is already the newest version (2.2.27-3ubuntu2.1).\n",
            "gnupg is already the newest version (2.2.27-3ubuntu2.1).\n",
            "software-properties-common is already the newest version (0.99.22.9).\n",
            "apt-transport-https is already the newest version (2.4.11).\n",
            "gnupg2 is already the newest version (2.2.27-3ubuntu2.1).\n",
            "0 upgraded, 0 newly installed, 0 to remove and 43 not upgraded.\n",
            "deb [arch=amd64,arm64,ppc64el signed-by=/usr/share/keyrings/postgresql.gpg] http://apt.postgresql.org/pub/repos/apt/ jammy-pgdg main\n",
            "Hit:1 https://cloud.r-project.org/bin/linux/ubuntu jammy-cran40/ InRelease\n",
            "Hit:2 https://developer.download.nvidia.com/compute/cuda/repos/ubuntu2204/x86_64  InRelease\n",
            "Hit:3 http://archive.ubuntu.com/ubuntu jammy InRelease\n",
            "Hit:4 http://archive.ubuntu.com/ubuntu jammy-updates InRelease\n",
            "Hit:5 http://security.ubuntu.com/ubuntu jammy-security InRelease\n",
            "Hit:6 http://apt.postgresql.org/pub/repos/apt jammy-pgdg InRelease\n",
            "Hit:7 http://archive.ubuntu.com/ubuntu jammy-backports InRelease\n",
            "Hit:8 https://ppa.launchpadcontent.net/c2d4u.team/c2d4u4.0+/ubuntu jammy InRelease\n",
            "Hit:9 https://ppa.launchpadcontent.net/deadsnakes/ppa/ubuntu jammy InRelease\n",
            "Hit:10 https://ppa.launchpadcontent.net/graphics-drivers/ppa/ubuntu jammy InRelease\n",
            "Hit:11 https://ppa.launchpadcontent.net/ubuntugis/ppa/ubuntu jammy InRelease\n",
            "Reading package lists... Done\n",
            "Building dependency tree... Done\n",
            "Reading state information... Done\n",
            "43 packages can be upgraded. Run 'apt list --upgradable' to see them.\n",
            "Reading package lists... Done\n",
            "Building dependency tree... Done\n",
            "Reading state information... Done\n",
            "postgresql-15 is already the newest version (15.6-1.pgdg22.04+1).\n",
            "postgresql-client-15 is already the newest version (15.6-1.pgdg22.04+1).\n",
            "0 upgraded, 0 newly installed, 0 to remove and 43 not upgraded.\n",
            " * Starting PostgreSQL 15 database server\n",
            "   ...done.\n"
          ]
        }
      ],
      "source": [
        "!sudo apt update\n",
        "!sudo apt install dirmngr ca-certificates software-properties-common gnupg gnupg2 apt-transport-https curl -y\n",
        "!curl -fSsL https://www.postgresql.org/media/keys/ACCC4CF8.asc | gpg --dearmor | sudo tee /usr/share/keyrings/postgresql.gpg > /dev/null\n",
        "!echo 'deb [arch=amd64,arm64,ppc64el signed-by=/usr/share/keyrings/postgresql.gpg] http://apt.postgresql.org/pub/repos/apt/ jammy-pgdg main' | sudo tee /etc/apt/sources.list.d/pgdg.list\n",
        "!sudo apt update\n",
        "!sudo apt install postgresql-client-15 postgresql-15 -y\n",
        "!sudo service postgresql start"
      ]
    },
    {
      "cell_type": "code",
      "source": [
        "# Setup a password `postgres` for username `postgres`\n",
        "!sudo -u postgres psql -U postgres -c \"DROP ROLE root;\"\n",
        "!sudo -u postgres psql -U postgres -c \"CREATE ROLE root WITH SUPERUSER;\"\n",
        "!sudo -u postgres psql -U postgres -c \"ALTER ROLE root WITH LOGIN;\"\n",
        "!sudo -u postgres psql -c \"ALTER USER postgres PASSWORD 'postgres'\""
      ],
      "metadata": {
        "colab": {
          "base_uri": "https://localhost:8080/"
        },
        "id": "3LlqQkH7Zfn8",
        "outputId": "9197f3a3-7899-40f1-e81a-aaaf43078639"
      },
      "execution_count": 6,
      "outputs": [
        {
          "output_type": "stream",
          "name": "stdout",
          "text": [
            "DROP ROLE\n",
            "CREATE ROLE\n",
            "ALTER ROLE\n",
            "ALTER ROLE\n"
          ]
        }
      ]
    },
    {
      "cell_type": "code",
      "source": [
        "!sudo -u postgres psql -c \"DROP TABLE api_req_res;\""
      ],
      "metadata": {
        "id": "SjyQ6bbcHBoH",
        "outputId": "a8495a64-c17e-40ea-a1bb-70c79446765a",
        "colab": {
          "base_uri": "https://localhost:8080/"
        }
      },
      "execution_count": 7,
      "outputs": [
        {
          "output_type": "stream",
          "name": "stdout",
          "text": [
            "DROP TABLE\n"
          ]
        }
      ]
    },
    {
      "cell_type": "code",
      "source": [
        "!sudo -u postgres psql -c \"CREATE TABLE api_req_res ( req_id VARCHAR(255), req_json VARCHAR(255), res_json VARCHAR(255) );\""
      ],
      "metadata": {
        "colab": {
          "base_uri": "https://localhost:8080/"
        },
        "id": "xoZ4a5BlCDwq",
        "outputId": "c9a1a470-e703-40cd-d270-75f9cfae8c27"
      },
      "execution_count": 8,
      "outputs": [
        {
          "output_type": "stream",
          "name": "stdout",
          "text": [
            "CREATE TABLE\n"
          ]
        }
      ]
    },
    {
      "cell_type": "code",
      "source": [
        "#!/usr/bin/env python3\n",
        "import sys, psycopg2, psycopg2.sql as sql\n",
        "\n",
        "\n",
        "class Crud:\n",
        "    def __init__(self, user, password, host, port, dbname, table, primarykey):\n",
        "        self.user = user\n",
        "        self.password = password\n",
        "        self.host = host\n",
        "        self.port = port\n",
        "        self.dbname = dbname\n",
        "        self.table = table\n",
        "        self.primarykey = primarykey\n",
        "\n",
        "\n",
        "\n",
        "    def connect(self):\n",
        "        try:\n",
        "            connection = psycopg2.connect(\n",
        "                user = self.user,\n",
        "                password = self.password,\n",
        "                host = self.host,\n",
        "                port = self.port,\n",
        "                dbname = self.dbname\n",
        "            )\n",
        "            cursor = connection.cursor()\n",
        "            print(\n",
        "                '------------------------------------------------------------'\n",
        "                '\\n-# PostgreSQL connection & transaction is ACTIVE\\n'\n",
        "                )\n",
        "        except (Exception, psycopg2.Error) as error :\n",
        "            print(error, error.pgcode, error.pgerror, sep = '\\n')\n",
        "            sys.exit()\n",
        "        else:\n",
        "            self._connection = connection\n",
        "            self._cursor = cursor\n",
        "            self._counter = 0\n",
        "\n",
        "\n",
        "    def _check_connection(self):\n",
        "        try:\n",
        "            self._connection\n",
        "        except AttributeError:\n",
        "            print('ERROR: NOT Connected to Database')\n",
        "            sys.exit()\n",
        "\n",
        "\n",
        "    def _execute(self, query, Placeholder_value = None):\n",
        "        self._check_connection()\n",
        "        if Placeholder_value == None or None in Placeholder_value:\n",
        "            self._cursor.execute(query)\n",
        "            print( '-# ' + query.as_string(self._connection) + ';\\n' )\n",
        "        else:\n",
        "            self._cursor.execute(query, Placeholder_value)\n",
        "            print( '-# ' + query.as_string(self._connection) % Placeholder_value + ';\\n' )\n",
        "\n",
        "\n",
        "    def commit(self):\n",
        "        self._check_connection()\n",
        "        self._connection.commit()\n",
        "        print('-# COMMIT '+ str(self._counter) +' changes\\n')\n",
        "        self._counter = 0\n",
        "\n",
        "\n",
        "    def close(self, commit = False):\n",
        "        self._check_connection()\n",
        "        if commit:\n",
        "            self.commit()\n",
        "        else:\n",
        "            self._cursor.close()\n",
        "            self._connection.close()\n",
        "        if self._counter > 0:\n",
        "            print(\n",
        "                '-# '+ str(self._counter) +' changes NOT commited  CLOSE connection\\n'\n",
        "                '------------------------------------------------------------\\n'\n",
        "            )\n",
        "        else:\n",
        "            print(\n",
        "                '-# CLOSE connection\\n'\n",
        "                '------------------------------------------------------------\\n'\n",
        "            )\n",
        "\n",
        "\n",
        "    def insert(self, **column_value):\n",
        "        insert_query  = sql.SQL(\"INSERT INTO {} ({}) VALUES ({})\").format(\n",
        "            sql.Identifier(self.table),\n",
        "            sql.SQL(', ').join( map( sql.Identifier, column_value.keys() ) ),\n",
        "            sql.SQL(', ').join(sql.Placeholder() * len(column_value.values()))\n",
        "        )\n",
        "        record_to_insert = tuple(column_value.values())\n",
        "        self._execute(insert_query, record_to_insert )\n",
        "        self._counter += 1\n",
        "\n",
        "\n",
        "    def insert_many(self, columns, rows):\n",
        "        insert_query  = sql.SQL(\"INSERT INTO {} ({}) VALUES ({})\").format(\n",
        "            sql.Identifier(self.table),\n",
        "            sql.SQL(', ').join( map( sql.Identifier, columns ) ),\n",
        "            sql.SQL(', ').join(sql.Placeholder() * len(rows[0]))\n",
        "        )\n",
        "        for row in rows:\n",
        "            row = tuple(row)\n",
        "            self._execute(insert_query, row )\n",
        "            self._counter += 1\n",
        "\n",
        "\n",
        "    def select(self, columns, primaryKey_value = None):\n",
        "        if primaryKey_value == None:\n",
        "            select_query = sql.SQL(\"SELECT {} FROM {}\").format(\n",
        "                sql.SQL(',').join(map(sql.Identifier, columns)),\n",
        "                sql.Identifier(self.table)\n",
        "            )\n",
        "            self._execute( select_query )\n",
        "        else:\n",
        "            select_query = sql.SQL(\"SELECT {} FROM {} WHERE {} = {}\").format(\n",
        "                sql.SQL(',').join(map(sql.Identifier, columns)),\n",
        "                sql.Identifier(self.table),\n",
        "                sql.Identifier(self.primarykey),\n",
        "                sql.Placeholder()\n",
        "            )\n",
        "            self._execute( select_query, ( primaryKey_value,))\n",
        "        try:\n",
        "            selected = self._cursor.fetchall()\n",
        "        except psycopg2.ProgrammingError as error:\n",
        "            selected = '# ERROR: ' + str(error)\n",
        "        else:\n",
        "            print('-# ' + str(selected) + '\\n')\n",
        "            return selected\n",
        "\n",
        "\n",
        "    def select_all(self, primaryKey_value = None):\n",
        "        if primaryKey_value == None:\n",
        "            select_query = sql.SQL(\"SELECT * FROM {}\").format(sql.Identifier(self.table))\n",
        "            self._execute( select_query )\n",
        "        else:\n",
        "            select_query = sql.SQL(\"SELECT * FROM {} WHERE {} = {}\").format(\n",
        "                sql.Identifier(self.table),\n",
        "                sql.Identifier(self.primarykey),\n",
        "                sql.Placeholder()\n",
        "            )\n",
        "            self._execute( select_query, ( primaryKey_value,))\n",
        "        try:\n",
        "            selected = self._cursor.fetchall()\n",
        "        except psycopg2.ProgrammingError as error:\n",
        "            selected = '# ERROR: ' + str(error)\n",
        "        else:\n",
        "            print('-# ' + str(selected) + '\\n')\n",
        "            return selected\n",
        "\n",
        "\n",
        "    def update(self, column, column_value, primaryKey_value):\n",
        "        update_query  = sql.SQL(\"UPDATE {} SET {} = {} WHERE {} = {}\").format(\n",
        "            sql.Identifier(self.table),\n",
        "            sql.Identifier(column),\n",
        "            sql.Placeholder(),\n",
        "            sql.Identifier(self.primarykey),\n",
        "            sql.Placeholder()\n",
        "        )\n",
        "        self._execute(update_query, ( column_value, primaryKey_value))\n",
        "        self._counter += 1\n",
        "\n",
        "\n",
        "    def update_multiple_columns(self, columns, columns_value, primaryKey_value):\n",
        "        update_query  = sql.SQL(\"UPDATE {} SET ({}) = ({}) WHERE {} = {}\").format(\n",
        "            sql.Identifier(self.table),\n",
        "            sql.SQL(',').join(map(sql.Identifier, columns)),\n",
        "            sql.SQL(', ').join(sql.Placeholder() * len(columns_value)),\n",
        "            sql.Identifier(self.primarykey),\n",
        "            sql.Placeholder()\n",
        "        )\n",
        "        Placeholder_value = list(columns_value)\n",
        "        Placeholder_value.append(primaryKey_value)\n",
        "        Placeholder_value = tuple(Placeholder_value)\n",
        "        self._execute(update_query, Placeholder_value)\n",
        "        self._counter += 1\n",
        "\n",
        "\n",
        "    def delete(self, primaryKey_value):\n",
        "        delete_query  = sql.SQL(\"DELETE FROM {} WHERE {} = {}\").format(\n",
        "            sql.Identifier(self.table),\n",
        "            sql.Identifier(self.primarykey),\n",
        "            sql.Placeholder()\n",
        "        )\n",
        "        self._execute(delete_query, ( primaryKey_value,))\n",
        "        self._counter += 1\n",
        "\n",
        "\n",
        "    def delete_all(self):\n",
        "        delete_query  = sql.SQL(\"DELETE FROM {}\").format( sql.Identifier(self.table) )\n",
        "        self._execute(delete_query)\n",
        "        self._counter += 1"
      ],
      "metadata": {
        "id": "_yfPbjjlHKL1"
      },
      "execution_count": 9,
      "outputs": []
    },
    {
      "cell_type": "code",
      "source": [
        "table = Crud(\n",
        "    user = 'postgres',\n",
        "    password = 'postgres',\n",
        "    host = '127.0.0.1',\n",
        "    port = '5432',\n",
        "    dbname = 'postgres',\n",
        "    table = 'api_req_res',\n",
        "    primarykey = 'req_id'\n",
        ")\n",
        "\n",
        "\n",
        "table.connect()\n",
        "\n",
        "\n",
        "table.insert(\n",
        "    req_id = 'Req1234',\n",
        "    req_json = 'request_json1',\n",
        "    res_json = 'response_json1'\n",
        ")\n",
        "\n",
        "\n",
        "table.insert_many(\n",
        "    columns = ('req_id', 'req_json', 'res_json'),\n",
        "    rows = [\n",
        "        ['Req5678', 'request_json2', 'response_json2'],\n",
        "        ['Req7891', 'request_json3', 'response_json3'],\n",
        "    ]\n",
        ")\n",
        "\n",
        "\n",
        "table.commit()\n",
        "\n",
        "'''\n",
        "table.select_all()\n",
        "\n",
        "\n",
        "table.select_all(\n",
        "    primaryKey_value = 'Req5678'\n",
        ")\n",
        "\n",
        "\n",
        "table.select(\n",
        "    columns = ['ReqJson'],\n",
        "    primaryKey_value = 'Req1234'\n",
        ")\n",
        "\n",
        "\n",
        "table.select(\n",
        "    columns = ['ReqId']\n",
        ")\n",
        "\n",
        "\n",
        "table.update(\n",
        "    column = 'address',\n",
        "    column_value = '50 KM south of cairo',\n",
        "    primaryKey_value = 'fayoum'\n",
        ")\n",
        "\n",
        "\n",
        "table.update_multiple_columns(\n",
        "    columns = ['city', 'address'],\n",
        "    columns_value = ['qena', 'upperEgypt'],\n",
        "    primaryKey_value = 'luxor'\n",
        ")\n",
        "\n",
        "\n",
        "table.delete(\n",
        "    primaryKey_value = 'matrooh'\n",
        ")\n",
        "\n",
        "\n",
        "table.select_all()\n",
        "\n",
        "\n",
        "table.delete_all()\n",
        "\n",
        "\n",
        "table.close(\"commit\")\n",
        "'''"
      ],
      "metadata": {
        "colab": {
          "base_uri": "https://localhost:8080/",
          "height": 291
        },
        "id": "pBcU942xHVo5",
        "outputId": "ce991280-61fe-440a-9d5d-0190b4662cac"
      },
      "execution_count": 10,
      "outputs": [
        {
          "output_type": "stream",
          "name": "stdout",
          "text": [
            "------------------------------------------------------------\n",
            "-# PostgreSQL connection & transaction is ACTIVE\n",
            "\n",
            "-# INSERT INTO \"api_req_res\" (\"req_id\", \"req_json\", \"res_json\") VALUES (Req1234, request_json1, response_json1);\n",
            "\n",
            "-# INSERT INTO \"api_req_res\" (\"req_id\", \"req_json\", \"res_json\") VALUES (Req5678, request_json2, response_json2);\n",
            "\n",
            "-# INSERT INTO \"api_req_res\" (\"req_id\", \"req_json\", \"res_json\") VALUES (Req7891, request_json3, response_json3);\n",
            "\n",
            "-# COMMIT 3 changes\n",
            "\n"
          ]
        },
        {
          "output_type": "execute_result",
          "data": {
            "text/plain": [
              "'\\ntable.select_all()\\n\\n\\ntable.select_all(\\n    primaryKey_value = \\'Req5678\\'\\n)\\n\\n\\ntable.select(\\n    columns = [\\'ReqJson\\'],\\n    primaryKey_value = \\'Req1234\\'\\n)\\n\\n\\ntable.select(\\n    columns = [\\'ReqId\\']\\n)\\n\\n\\ntable.update(\\n    column = \\'address\\',\\n    column_value = \\'50 KM south of cairo\\',\\n    primaryKey_value = \\'fayoum\\'\\n)\\n\\n\\ntable.update_multiple_columns(\\n    columns = [\\'city\\', \\'address\\'],\\n    columns_value = [\\'qena\\', \\'upperEgypt\\'],\\n    primaryKey_value = \\'luxor\\'\\n)\\n\\n\\ntable.delete(\\n    primaryKey_value = \\'matrooh\\'\\n)\\n\\n\\ntable.select_all()\\n\\n\\ntable.delete_all()\\n\\n\\ntable.close(\"commit\")\\n'"
            ],
            "application/vnd.google.colaboratory.intrinsic+json": {
              "type": "string"
            }
          },
          "metadata": {},
          "execution_count": 10
        }
      ]
    },
    {
      "cell_type": "code",
      "source": [
        "table.commit()\n",
        "table.select_all()"
      ],
      "metadata": {
        "id": "p7m_fZkxFt5H",
        "outputId": "7709eacd-7584-469b-db60-d8da143b5eb5",
        "colab": {
          "base_uri": "https://localhost:8080/"
        }
      },
      "execution_count": 11,
      "outputs": [
        {
          "output_type": "stream",
          "name": "stdout",
          "text": [
            "-# COMMIT 0 changes\n",
            "\n",
            "-# SELECT * FROM \"api_req_res\";\n",
            "\n",
            "-# [('Req1234', 'request_json1', 'response_json1'), ('Req5678', 'request_json2', 'response_json2'), ('Req7891', 'request_json3', 'response_json3')]\n",
            "\n"
          ]
        },
        {
          "output_type": "execute_result",
          "data": {
            "text/plain": [
              "[('Req1234', 'request_json1', 'response_json1'),\n",
              " ('Req5678', 'request_json2', 'response_json2'),\n",
              " ('Req7891', 'request_json3', 'response_json3')]"
            ]
          },
          "metadata": {},
          "execution_count": 11
        }
      ]
    },
    {
      "cell_type": "code",
      "source": [
        "#!sudo -u postgres psql -c \"DROP TABLE api_req_res;\""
      ],
      "metadata": {
        "id": "TiZxGZp0GTTc"
      },
      "execution_count": null,
      "outputs": []
    },
    {
      "cell_type": "code",
      "source": [
        "'''\n",
        "Class Crud:\n",
        "    Method __init__(user, password, host, port, dbname, table, primarykey):\n",
        "        Initialize attributes: user, password, host, port, dbname, table, primarykey\n",
        "\n",
        "    Method connect():\n",
        "        Try connecting to PostgreSQL database using provided credentials\n",
        "        If successful, print connection status message\n",
        "        If connection fails, print error message and exit\n",
        "\n",
        "    Method _check_connection():\n",
        "        Check if connection to database has been established\n",
        "        If not, print error message and exit\n",
        "\n",
        "    Method _execute(query, Placeholder_value = None):\n",
        "        Check connection to database\n",
        "        If Placeholder_value is None or contains None, execute query without placeholders\n",
        "        Else, execute query with placeholders and Placeholder_value\n",
        "        Print executed query\n",
        "\n",
        "    Method commit():\n",
        "        Check connection to database\n",
        "        Commit changes and print commit message\n",
        "        Reset counter to 0\n",
        "\n",
        "    Method close(commit = False):\n",
        "        Check connection to database\n",
        "        If commit is True, call commit() method\n",
        "        If commit is False, close cursor and connection\n",
        "        If changes were not committed, print message indicating changes were not committed\n",
        "\n",
        "    Method insert(**column_value):\n",
        "        Construct INSERT query with table name and column-value pairs\n",
        "        Execute the query to insert data into the table\n",
        "        Increment counter for changes made\n",
        "\n",
        "    Method insert_many(columns, rows):\n",
        "        Construct INSERT query with table name, columns, and rows\n",
        "        Execute the query to insert multiple rows into the table\n",
        "        Increment counter for changes made\n",
        "\n",
        "    Method select(columns, primaryKey_value = None):\n",
        "        Construct SELECT query with table name, columns, and optional primary key value\n",
        "        Execute the query to fetch data from the table\n",
        "        Return the fetched rows\n",
        "\n",
        "    Method select_all(primaryKey_value = None):\n",
        "        Construct SELECT query to fetch all rows from the table\n",
        "        Execute the query and return the fetched rows\n",
        "\n",
        "    Method update(column, column_value, primaryKey_value):\n",
        "        Construct UPDATE query with table name, column, column value, and primary key value\n",
        "        Execute the query to update data in the table\n",
        "        Increment counter for changes made\n",
        "\n",
        "    Method update_multiple_columns(columns, columns_value, primaryKey_value):\n",
        "        Construct UPDATE query with table name, columns, column values, and primary key value\n",
        "        Execute the query to update data in the table for multiple columns\n",
        "        Increment counter for changes made\n",
        "\n",
        "    Method delete(primaryKey_value):\n",
        "        Construct DELETE query with table name and primary key value\n",
        "        Execute the query to delete data from the table\n",
        "        Increment counter for changes made\n",
        "\n",
        "    Method delete_all():\n",
        "        Construct DELETE query to delete all data from the table\n",
        "        Execute the query to delete all rows\n",
        "        Increment counter for changes made\n",
        "\n",
        "# Example usage:\n",
        "If __name__ == \"__main__\":\n",
        "    Create an instance of Crud with database credentials\n",
        "    Connect to the database\n",
        "    Perform CRUD operations as needed\n",
        "    Close the connection and commit changes if necessary\n",
        "\n",
        "'''"
      ],
      "metadata": {
        "id": "u57RAU4lISOE"
      },
      "execution_count": null,
      "outputs": []
    }
  ]
}