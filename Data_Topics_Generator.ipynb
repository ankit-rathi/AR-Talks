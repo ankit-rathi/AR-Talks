{
  "nbformat": 4,
  "nbformat_minor": 0,
  "metadata": {
    "colab": {
      "provenance": [],
      "authorship_tag": "ABX9TyODhvP3Iil3nb5Q4GqtxHfv",
      "include_colab_link": true
    },
    "kernelspec": {
      "name": "python3",
      "display_name": "Python 3"
    },
    "language_info": {
      "name": "python"
    }
  },
  "cells": [
    {
      "cell_type": "markdown",
      "metadata": {
        "id": "view-in-github",
        "colab_type": "text"
      },
      "source": [
        "<a href=\"https://colab.research.google.com/github/ankit-rathi/AR-Talks/blob/master/Data_Topics_Generator.ipynb\" target=\"_parent\"><img src=\"https://colab.research.google.com/assets/colab-badge.svg\" alt=\"Open In Colab\"/></a>"
      ]
    },
    {
      "cell_type": "code",
      "execution_count": 2,
      "metadata": {
        "colab": {
          "base_uri": "https://localhost:8080/"
        },
        "id": "ufDI9IrjzH0X",
        "outputId": "b5ae43ba-335d-4140-a3de-c37fd92d4889"
      },
      "outputs": [
        {
          "output_type": "stream",
          "name": "stdout",
          "text": [
            "Today's random topic to write on is: Customer Analytics\n"
          ]
        }
      ],
      "source": [
        "import random\n",
        "\n",
        "def get_random_topic():\n",
        "    topics = [\n",
        "        # Data Analysis\n",
        "        \"Descriptive statistics\",\n",
        "        \"Inferential statistics\",\n",
        "        \"Hypothesis testing\",\n",
        "        \"Regression analysis\",\n",
        "        \"Time series analysis\",\n",
        "        \"Cluster analysis\",\n",
        "        \"Factor analysis\",\n",
        "        \"Multivariate analysis\",\n",
        "        \"Survival analysis\",\n",
        "        \"Decision tree analysis\",\n",
        "        \"Bayesian statistics\",\n",
        "        # Data Science\n",
        "        \"Supervised learning\",\n",
        "        \"Unsupervised learning\",\n",
        "        \"Semi-supervised learning\",\n",
        "        \"Reinforcement learning\",\n",
        "        \"Natural Language Processing (NLP)\",\n",
        "        \"Computer Vision\",\n",
        "        \"Deep Learning\",\n",
        "        \"Neural Networks\",\n",
        "        \"Dimensionality Reduction\",\n",
        "        \"Ensemble Methods\",\n",
        "        \"Model Evaluation and Validation\",\n",
        "        # Data Visualization\n",
        "        \"Data Visualization Libraries (e.g., Matplotlib, Seaborn)\",\n",
        "        \"Interactive Data Visualization\",\n",
        "        \"Geospatial Visualization\",\n",
        "        \"Temporal Visualization\",\n",
        "        \"Network Visualization\",\n",
        "        \"Dashboard Design Principles\",\n",
        "        # Data Engineering\n",
        "        \"ETL (Extract, Transform, Load) Processes\",\n",
        "        \"Data Warehousing\",\n",
        "        \"Data Modeling\",\n",
        "        \"Database Management Systems (SQL, NoSQL)\",\n",
        "        \"Distributed Computing\",\n",
        "        \"Cloud Computing Platforms (AWS, Azure, Google Cloud)\",\n",
        "        \"Containerization (Docker, Kubernetes)\",\n",
        "        # Data Governance and Privacy\n",
        "        \"Data Governance Frameworks\",\n",
        "        \"Data Quality Management\",\n",
        "        \"Data Privacy Laws and Regulations\",\n",
        "        \"Privacy-Preserving Techniques\",\n",
        "        \"Data Ethics\",\n",
        "        \"Consent Management\",\n",
        "        # Business Intelligence (BI)\n",
        "        \"Data-driven Decision Making\",\n",
        "        \"Performance Dashboards\",\n",
        "        \"Data Storytelling\",\n",
        "        \"Customer Analytics\",\n",
        "        \"Market Segmentation\",\n",
        "        \"Competitive Intelligence\",\n",
        "        \"Predictive Analytics\",\n",
        "        # Data Ethics and Responsible AI\n",
        "        \"Fairness in Machine Learning\",\n",
        "        \"Ethical Considerations in AI\",\n",
        "        \"Bias Detection and Mitigation\",\n",
        "        \"Explainable AI\",\n",
        "        \"Algorithmic Accountability\",\n",
        "        \"Privacy by Design\",\n",
        "        # Data Journalism\n",
        "        \"Investigative Data Journalism\",\n",
        "        \"Data Visualization in Journalism\",\n",
        "        \"Fact-Checking\",\n",
        "        \"Data-Driven Storytelling\",\n",
        "        \"Journalistic Ethics in Data Reporting\",\n",
        "        # Data Mining and Text Analysis\n",
        "        \"Association Rule Mining\",\n",
        "        \"Text Mining\",\n",
        "        \"Sentiment Analysis\",\n",
        "        \"Topic Modeling\",\n",
        "        \"Social Network Analysis\",\n",
        "        \"Web Scraping\",\n",
        "        # Data Strategy and Management\n",
        "        \"Data Strategy Development\",\n",
        "        \"Data Governance Structures\",\n",
        "        \"Data Lifecycle Management\",\n",
        "        \"Data Security and Compliance\",\n",
        "        \"Data Culture and Transformation\",\n",
        "        \"Data Monetization Strategies\",\n",
        "        # Other Emerging Topics\n",
        "        \"Blockchain Technology and Data\",\n",
        "        \"IoT (Internet of Things) Data Analytics\",\n",
        "        \"Edge Computing\",\n",
        "        \"Quantum Computing and Data Science\",\n",
        "        \"Augmented Analytics\",\n",
        "        \"Explainable AI\",\n",
        "        \"Responsible AI Development\"\n",
        "    ]\n",
        "    return random.choice(topics)\n",
        "\n",
        "# Example usage:\n",
        "random_topic = get_random_topic()\n",
        "print(\"Today's random topic to write on is:\", random_topic)\n"
      ]
    }
  ]
}